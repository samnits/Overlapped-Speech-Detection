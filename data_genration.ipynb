{
 "cells": [
  {
   "cell_type": "code",
   "execution_count": 1,
   "id": "24335d4d-254c-4d35-a62c-5e7921a786d5",
   "metadata": {},
   "outputs": [
    {
     "name": "stdout",
     "output_type": "stream",
     "text": [
      "Requirement already satisfied: moviepy==1.0.3 in c:\\users\\saksh\\appdata\\local\\programs\\python\\python312\\lib\\site-packages (1.0.3)\n",
      "Requirement already satisfied: decorator<5.0,>=4.0.2 in c:\\users\\saksh\\appdata\\local\\programs\\python\\python312\\lib\\site-packages (from moviepy==1.0.3) (4.4.2)\n",
      "Requirement already satisfied: imageio<3.0,>=2.5 in c:\\users\\saksh\\appdata\\local\\programs\\python\\python312\\lib\\site-packages (from moviepy==1.0.3) (2.36.1)\n",
      "Requirement already satisfied: imageio_ffmpeg>=0.2.0 in c:\\users\\saksh\\appdata\\local\\programs\\python\\python312\\lib\\site-packages (from moviepy==1.0.3) (0.5.1)\n",
      "Requirement already satisfied: tqdm<5.0,>=4.11.2 in c:\\users\\saksh\\appdata\\local\\programs\\python\\python312\\lib\\site-packages (from moviepy==1.0.3) (4.67.1)\n",
      "Requirement already satisfied: numpy>=1.17.3 in c:\\users\\saksh\\appdata\\local\\programs\\python\\python312\\lib\\site-packages (from moviepy==1.0.3) (1.26.4)\n",
      "Requirement already satisfied: requests<3.0,>=2.8.1 in c:\\users\\saksh\\appdata\\local\\programs\\python\\python312\\lib\\site-packages (from moviepy==1.0.3) (2.31.0)\n",
      "Requirement already satisfied: proglog<=1.0.0 in c:\\users\\saksh\\appdata\\local\\programs\\python\\python312\\lib\\site-packages (from moviepy==1.0.3) (0.1.10)\n",
      "Requirement already satisfied: pillow>=8.3.2 in c:\\users\\saksh\\appdata\\local\\programs\\python\\python312\\lib\\site-packages (from imageio<3.0,>=2.5->moviepy==1.0.3) (10.4.0)\n",
      "Requirement already satisfied: setuptools in c:\\users\\saksh\\appdata\\local\\programs\\python\\python312\\lib\\site-packages (from imageio_ffmpeg>=0.2.0->moviepy==1.0.3) (75.8.0)\n",
      "Requirement already satisfied: charset-normalizer<4,>=2 in c:\\users\\saksh\\appdata\\local\\programs\\python\\python312\\lib\\site-packages (from requests<3.0,>=2.8.1->moviepy==1.0.3) (3.3.2)\n",
      "Requirement already satisfied: idna<4,>=2.5 in c:\\users\\saksh\\appdata\\local\\programs\\python\\python312\\lib\\site-packages (from requests<3.0,>=2.8.1->moviepy==1.0.3) (3.6)\n",
      "Requirement already satisfied: urllib3<3,>=1.21.1 in c:\\users\\saksh\\appdata\\local\\programs\\python\\python312\\lib\\site-packages (from requests<3.0,>=2.8.1->moviepy==1.0.3) (2.2.1)\n",
      "Requirement already satisfied: certifi>=2017.4.17 in c:\\users\\saksh\\appdata\\local\\programs\\python\\python312\\lib\\site-packages (from requests<3.0,>=2.8.1->moviepy==1.0.3) (2024.2.2)\n",
      "Requirement already satisfied: colorama in c:\\users\\saksh\\appdata\\local\\programs\\python\\python312\\lib\\site-packages (from tqdm<5.0,>=4.11.2->moviepy==1.0.3) (0.4.6)\n",
      "Note: you may need to restart the kernel to use updated packages.\n"
     ]
    },
    {
     "name": "stderr",
     "output_type": "stream",
     "text": [
      "\n",
      "[notice] A new release of pip is available: 24.2 -> 25.0\n",
      "[notice] To update, run: python.exe -m pip install --upgrade pip\n"
     ]
    }
   ],
   "source": [
    "pip install moviepy==1.0.3"
   ]
  },
  {
   "cell_type": "code",
   "execution_count": 2,
   "id": "a9c98dcf-1baf-4ba6-83e7-6670a1cac845",
   "metadata": {},
   "outputs": [],
   "source": [
    "from moviepy.editor import VideoFileClip"
   ]
  },
  {
   "cell_type": "code",
   "execution_count": 4,
   "id": "df5482c7-68f4-418b-a528-84873bcd1406",
   "metadata": {},
   "outputs": [
    {
     "name": "stdout",
     "output_type": "stream",
     "text": [
      "Process completed. 3000 samples are saved in 'output_samples', and log is saved in 'output1.txt'.\n"
     ]
    }
   ],
   "source": [
    "from pydub import AudioSegment\n",
    "from moviepy.editor import VideoFileClip\n",
    "import os\n",
    "import random\n",
    "\n",
    "# Input folder names (each folder contains files)\n",
    "folders = [\"s2\", \"s3\", \"s12\", \"s13\", \"s28\", \"s29\", \"s30\"]\n",
    "\n",
    "# Paths and output files\n",
    "output_audio_dir = \"output_samples\"  # Directory to save generated audio files\n",
    "output_file = \"output1.txt\"  # Log file for generated audio files and tags\n",
    "os.makedirs(output_audio_dir, exist_ok=True)\n",
    "\n",
    "# Function to list all files in the specified folders\n",
    "def list_files_in_folders(folders, extension=\".mpg\"):\n",
    "    all_files = []\n",
    "    for folder in folders:\n",
    "        folder_path = os.path.abspath(folder)  # Get the full path of the folder\n",
    "        if os.path.exists(folder_path):\n",
    "            files = [\n",
    "                (folder, os.path.join(folder_path, f))  # Store folder name and full path\n",
    "                for f in os.listdir(folder_path)\n",
    "                if f.endswith(extension)\n",
    "            ]\n",
    "            all_files.extend(files)\n",
    "        else:\n",
    "            print(f\"Warning: Folder not found - {folder_path}\")\n",
    "    return all_files\n",
    "\n",
    "# Function to load audio from a video file\n",
    "def load_audio(file_path):\n",
    "    video = VideoFileClip(file_path)  # Load the video file\n",
    "    audio = video.audio\n",
    "    audio_path = file_path.replace(\".mpg\", \".wav\")  # Temporary WAV file to save the audio\n",
    "    audio.write_audiofile(audio_path, logger=None)  # Extract audio to WAV format\n",
    "    audio_segment = AudioSegment.from_file(audio_path, format=\"wav\")  # Load as AudioSegment\n",
    "    os.remove(audio_path)  # Delete the temporary WAV file\n",
    "    return audio_segment\n",
    "\n",
    "# List all files in the specified folders\n",
    "all_files = list_files_in_folders(folders)\n",
    "\n",
    "# Ensure there are enough files to sample from\n",
    "if len(all_files) < 2:\n",
    "    raise ValueError(\"Not enough files found to generate samples.\")\n",
    "\n",
    "# Open the output file for logging\n",
    "with open(output_file, \"w\") as f:\n",
    "    f.write(\"Output File, Speaker1, Speaker2, Tag\\n\")  # Header\n",
    "    \n",
    "    # Process for generating samples\n",
    "    for idx in range(3000):\n",
    "        # Randomly choose two files (X and Y) from the list of files\n",
    "        (speaker1, file1_path), (speaker2, file2_path) = random.sample(all_files, 2)\n",
    "\n",
    "        # Load audio for the selected files\n",
    "        audio1 = load_audio(file1_path)\n",
    "        audio2 = load_audio(file2_path)\n",
    "\n",
    "        # Generate unique filename before using it\n",
    "        output_filename = f\"audio_{idx}.wav\"\n",
    "\n",
    "        # Randomly decide if the output is overlapped or non-overlapped\n",
    "        is_overlapped = random.choice([True, False])\n",
    "\n",
    "        if is_overlapped:\n",
    "            # Adjust lengths and overlay the audio\n",
    "            max_len = max(len(audio1), len(audio2))\n",
    "            audio1 = audio1 + AudioSegment.silent(duration=max_len - len(audio1))\n",
    "            audio2 = audio2 + AudioSegment.silent(duration=max_len - len(audio2))\n",
    "            output_audio = audio1.overlay(audio2)\n",
    "            tag = \"overlapped\"\n",
    "            log_speaker1, log_speaker2 = speaker1, speaker2  # Store both speaker names\n",
    "        else:\n",
    "            # Choose one file randomly for non-overlapped\n",
    "            chosen_speaker, chosen_audio = random.choice([(speaker1, audio1), (speaker2, audio2)])\n",
    "            output_audio = chosen_audio\n",
    "            tag = \"non-overlapped\"\n",
    "            log_speaker1, log_speaker2 = (chosen_speaker, \"\") if chosen_speaker == speaker1 else (\"\", chosen_speaker)\n",
    "\n",
    "        # Update filename with tag information\n",
    "        output_filename = f\"audio_{idx}_{tag}.wav\"\n",
    "        output_filepath = os.path.join(output_audio_dir, output_filename)\n",
    "        output_audio.export(output_filepath, format=\"wav\")\n",
    "\n",
    "        # Log the result\n",
    "        f.write(f\"{output_filename},  {log_speaker1},  {log_speaker2},  {tag}\\n\")\n",
    "\n",
    "print(f\"Process completed. 3000 samples are saved in '{output_audio_dir}', and log is saved in '{output_file}'.\")\n"
   ]
  },
  {
   "cell_type": "code",
   "execution_count": null,
   "id": "9cad9c07-712a-4822-a6c0-586cc52cd5ec",
   "metadata": {},
   "outputs": [],
   "source": []
  }
 ],
 "metadata": {
  "kernelspec": {
   "display_name": "Python 3 (ipykernel)",
   "language": "python",
   "name": "python3"
  },
  "language_info": {
   "codemirror_mode": {
    "name": "ipython",
    "version": 3
   },
   "file_extension": ".py",
   "mimetype": "text/x-python",
   "name": "python",
   "nbconvert_exporter": "python",
   "pygments_lexer": "ipython3",
   "version": "3.12.2"
  }
 },
 "nbformat": 4,
 "nbformat_minor": 5
}
